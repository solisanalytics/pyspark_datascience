{
 "cells": [
  {
   "cell_type": "markdown",
   "id": "799a0da1-ad29-4c69-8ecd-e2829b09fd82",
   "metadata": {},
   "source": [
    "# Harnessing the Power of Python with Apache Spark"
   ]
  },
  {
   "cell_type": "markdown",
   "id": "3ae6162a-e288-4c8c-b04b-373c444e930b",
   "metadata": {},
   "source": [
    "### Imports"
   ]
  },
  {
   "cell_type": "code",
   "execution_count": 1,
   "id": "63d84b9a-2a08-4c90-be0f-3ddf7b4ba29c",
   "metadata": {
    "tags": []
   },
   "outputs": [],
   "source": [
    "from pyspark import SparkConf, SparkContext\n",
    "from pyspark.sql import SparkSession\n",
    "from pyspark.sql.functions import collect_list\n",
    "from itertools import combinations\n",
    "import os"
   ]
  },
  {
   "cell_type": "markdown",
   "id": "5ff6ea60-ade4-42ca-9f8b-89dcae1f1597",
   "metadata": {},
   "source": [
    "### Load the Dataset"
   ]
  },
  {
   "cell_type": "code",
   "execution_count": 2,
   "id": "44961269-8078-4df2-9803-3bb093516800",
   "metadata": {
    "tags": []
   },
   "outputs": [
    {
     "name": "stderr",
     "output_type": "stream",
     "text": [
      "Setting default log level to \"WARN\".\n",
      "To adjust logging level use sc.setLogLevel(newLevel). For SparkR, use setLogLevel(newLevel).\n",
      "23/11/28 17:03:07 WARN NativeCodeLoader: Unable to load native-hadoop library for your platform... using builtin-java classes where applicable\n",
      "                                                                                \r"
     ]
    },
    {
     "name": "stdout",
     "output_type": "stream",
     "text": [
      "+-------+---------+--------------------+--------+--------------+-----+-----------+--------------+\n",
      "|Invoice|StockCode|         Description|Quantity|   InvoiceDate|Price|Customer ID|       Country|\n",
      "+-------+---------+--------------------+--------+--------------+-----+-----------+--------------+\n",
      "| 536365|   85123A|WHITE HANGING HEA...|       6|12/1/2010 8:26| 2.55|      17850|United Kingdom|\n",
      "| 536365|    71053| WHITE METAL LANTERN|       6|12/1/2010 8:26| 3.39|      17850|United Kingdom|\n",
      "| 536365|   84406B|CREAM CUPID HEART...|       8|12/1/2010 8:26| 2.75|      17850|United Kingdom|\n",
      "| 536365|   84029G|KNITTED UNION FLA...|       6|12/1/2010 8:26| 3.39|      17850|United Kingdom|\n",
      "| 536365|   84029E|RED WOOLLY HOTTIE...|       6|12/1/2010 8:26| 3.39|      17850|United Kingdom|\n",
      "| 536365|    22752|SET 7 BABUSHKA NE...|       2|12/1/2010 8:26| 7.65|      17850|United Kingdom|\n",
      "| 536365|    21730|GLASS STAR FROSTE...|       6|12/1/2010 8:26| 4.25|      17850|United Kingdom|\n",
      "| 536366|    22633|HAND WARMER UNION...|       6|12/1/2010 8:28| 1.85|      17850|United Kingdom|\n",
      "| 536366|    22632|HAND WARMER RED P...|       6|12/1/2010 8:28| 1.85|      17850|United Kingdom|\n",
      "| 536368|    22960|JAM MAKING SET WI...|       6|12/1/2010 8:34| 4.25|      13047|United Kingdom|\n",
      "| 536368|    22913|RED COAT RACK PAR...|       3|12/1/2010 8:34| 4.95|      13047|United Kingdom|\n",
      "| 536368|    22912|YELLOW COAT RACK ...|       3|12/1/2010 8:34| 4.95|      13047|United Kingdom|\n",
      "| 536368|    22914|BLUE COAT RACK PA...|       3|12/1/2010 8:34| 4.95|      13047|United Kingdom|\n",
      "| 536367|    84879|ASSORTED COLOUR B...|      32|12/1/2010 8:34| 1.69|      13047|United Kingdom|\n",
      "| 536367|    22745|POPPY'S PLAYHOUSE...|       6|12/1/2010 8:34|  2.1|      13047|United Kingdom|\n",
      "| 536367|    22748|POPPY'S PLAYHOUSE...|       6|12/1/2010 8:34|  2.1|      13047|United Kingdom|\n",
      "| 536367|    22749|FELTCRAFT PRINCES...|       8|12/1/2010 8:34| 3.75|      13047|United Kingdom|\n",
      "| 536367|    22310|IVORY KNITTED MUG...|       6|12/1/2010 8:34| 1.65|      13047|United Kingdom|\n",
      "| 536367|    84969|BOX OF 6 ASSORTED...|       6|12/1/2010 8:34| 4.25|      13047|United Kingdom|\n",
      "| 536367|    22623|BOX OF VINTAGE JI...|       3|12/1/2010 8:34| 4.95|      13047|United Kingdom|\n",
      "+-------+---------+--------------------+--------+--------------+-----+-----------+--------------+\n",
      "only showing top 20 rows\n",
      "\n"
     ]
    }
   ],
   "source": [
    "# initialize spark session\n",
    "spark = (SparkSession.builder.appName('OnlineRetailAnalysis')\n",
    "         .getOrCreate())\n",
    "\n",
    "# file path\n",
    "file_path = 'online_retail_II_2010-2011.csv'\n",
    "\n",
    "# read dataset\n",
    "df = spark.read.csv(file_path, header=True, inferSchema=True)\n",
    "\n",
    "# display dataframe\n",
    "df.show()"
   ]
  },
  {
   "cell_type": "markdown",
   "id": "4bd35d70-9614-4814-94f8-2d03d7a1e093",
   "metadata": {},
   "source": [
    "### Market Basket Analysis"
   ]
  },
  {
   "cell_type": "code",
   "execution_count": 3,
   "id": "f40488b6-9fb8-44ec-9f63-d89abd5f409e",
   "metadata": {},
   "outputs": [
    {
     "name": "stderr",
     "output_type": "stream",
     "text": [
      "                                                                                \r"
     ]
    },
    {
     "data": {
      "text/plain": [
       "[(('22697', '22698'), 618),\n",
       " (('22386', '85099B'), 544),\n",
       " (('22697', '22699'), 534),\n",
       " (('22411', '85099B'), 467),\n",
       " (('85099B', 'DOT'), 461),\n",
       " (('21931', '85099B'), 458),\n",
       " (('20725', '20727'), 443),\n",
       " (('22698', '22699'), 419),\n",
       " (('85099B', '85099C'), 396),\n",
       " (('22726', '22727'), 396)]"
      ]
     },
     "execution_count": 3,
     "metadata": {},
     "output_type": "execute_result"
    }
   ],
   "source": [
    "# filter columns and remove nulls\n",
    "df_filtered = df.select('Invoice', 'StockCode').na.drop()\n",
    "\n",
    "# group by invoice and aggregate stockcodes\n",
    "df_grouped = df_filtered.groupBy('Invoice').agg(collect_list('StockCode').alias('Items'))\n",
    "\n",
    "# generate and count item pairs\n",
    "item_pairs = (df_grouped.rdd.flatMap(lambda row: combinations(row[1], 2))\n",
    "                                     .map(lambda pair: (pair, 1)))\n",
    "\n",
    "pair_frequencies = item_pairs.reduceByKey(lambda a, b: a + b)\n",
    "\n",
    "# sort pairs by frequency\n",
    "sorted_pairs = pair_frequencies.sortBy(lambda x: x[1], ascending=False)\n",
    "\n",
    "# display top 10 pairs\n",
    "sorted_pairs.take(10)"
   ]
  }
 ],
 "metadata": {
  "kernelspec": {
   "display_name": "sparkenv:Python",
   "language": "python",
   "name": "conda-env-sparkenv-py"
  },
  "language_info": {
   "codemirror_mode": {
    "name": "ipython",
    "version": 3
   },
   "file_extension": ".py",
   "mimetype": "text/x-python",
   "name": "python",
   "nbconvert_exporter": "python",
   "pygments_lexer": "ipython3",
   "version": "3.12.0"
  }
 },
 "nbformat": 4,
 "nbformat_minor": 5
}
